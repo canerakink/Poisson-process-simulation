{
  "nbformat": 4,
  "nbformat_minor": 0,
  "metadata": {
    "colab": {
      "provenance": [],
      "authorship_tag": "ABX9TyOJVFf6Jd0FXQvBclKBuC+n",
      "include_colab_link": true
    },
    "kernelspec": {
      "name": "python3",
      "display_name": "Python 3"
    },
    "language_info": {
      "name": "python"
    }
  },
  "cells": [
    {
      "cell_type": "markdown",
      "metadata": {
        "id": "view-in-github",
        "colab_type": "text"
      },
      "source": [
        "<a href=\"https://colab.research.google.com/github/canerakink/Poisson-process-simulation/blob/main/Untitled21.ipynb\" target=\"_parent\"><img src=\"https://colab.research.google.com/assets/colab-badge.svg\" alt=\"Open In Colab\"/></a>"
      ]
    },
    {
      "cell_type": "markdown",
      "source": [
        "# Data Science Assingment"
      ],
      "metadata": {
        "id": "vhde_EkuXxYa"
      }
    },
    {
      "cell_type": "markdown",
      "source": [
        "# Introduction\n",
        "\n",
        "Here is the introduction of the notebook"
      ],
      "metadata": {
        "id": "HmEyf0i1aMq-"
      }
    },
    {
      "cell_type": "markdown",
      "source": [
        "## Objectives\n",
        "\n",
        "\n",
        "\n",
        "1.   List popular languages for Data Science\n",
        "2.   List commonly used libraries in Data Science\n",
        "3.   Create tables in Jupyter Notebooks\n",
        "4.   Perform arithmetic operations in Python\n",
        "5.   Convert units (e.g., minutes to hours)\n",
        "\n",
        "\n",
        "\n",
        "\n",
        "\n"
      ],
      "metadata": {
        "id": "tXk8kyzpX96a"
      }
    },
    {
      "cell_type": "markdown",
      "source": [
        "\n",
        "## Popular Data Science Tools\n",
        "\n",
        "\n",
        "\n",
        "*   R\n",
        "*   Python\n",
        "*   Julia\n",
        "*   Scala\n",
        "\n",
        "\n",
        "\n"
      ],
      "metadata": {
        "id": "x1o6uH7MYlgq"
      }
    },
    {
      "cell_type": "markdown",
      "source": [
        "\n",
        "## Popular Data Science Libraries\n",
        "\n",
        "\n",
        "\n",
        "*   tensorflow\n",
        "*   ggplot\n",
        "*   keras\n",
        "*   pandas\n",
        "\n",
        "\n",
        "\n"
      ],
      "metadata": {
        "id": "-mONCacgZBeo"
      }
    },
    {
      "cell_type": "code",
      "source": [
        "(9*9)+1"
      ],
      "metadata": {
        "colab": {
          "base_uri": "https://localhost:8080/"
        },
        "id": "Es6oNubvZ22o",
        "outputId": "421f7db4-12f4-4c69-8fb4-e217565b5ea8"
      },
      "execution_count": 3,
      "outputs": [
        {
          "output_type": "execute_result",
          "data": {
            "text/plain": [
              "82"
            ]
          },
          "metadata": {},
          "execution_count": 3
        }
      ]
    },
    {
      "cell_type": "code",
      "source": [
        "minutes = 344\n",
        "hours = minutes / 60\n",
        "print(f\"{minutes} minutes is equal to {hours:.2f} hours.\")"
      ],
      "metadata": {
        "colab": {
          "base_uri": "https://localhost:8080/"
        },
        "id": "mea2zupWZv4_",
        "outputId": "29a54434-9b02-4458-ad2d-7adc9f7fab4b"
      },
      "execution_count": 1,
      "outputs": [
        {
          "output_type": "stream",
          "name": "stdout",
          "text": [
            "344 minutes is equal to 5.73 hours.\n"
          ]
        }
      ]
    },
    {
      "cell_type": "markdown",
      "source": [
        "### Author\n",
        "Caner Akın Keçici"
      ],
      "metadata": {
        "id": "7KVvcEQdaAQA"
      }
    }
  ]
}