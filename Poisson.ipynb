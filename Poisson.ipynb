{
  "nbformat": 4,
  "nbformat_minor": 0,
  "metadata": {
    "colab": {
      "provenance": []
    },
    "kernelspec": {
      "name": "python3",
      "display_name": "Python 3"
    },
    "language_info": {
      "name": "python"
    }
  },
  "cells": [
    {
      "cell_type": "code",
      "execution_count": null,
      "metadata": {
        "colab": {
          "base_uri": "https://localhost:8080/",
          "height": 421
        },
        "id": "j7mCJ8hndEZ4",
        "outputId": "8a1fbde1-0884-44bd-e498-e9184411410e"
      },
      "outputs": [
        {
          "output_type": "stream",
          "name": "stdout",
          "text": [
            "[18 10 16 19 11 13 14 16 12 14 11 16 16 13 17 10 12 13 15  9  6 14 19 12\n",
            " 10 18 17 18 13 20 13 13 18 21 10 18 18 15 13 21 14 12 12 22 19 21 13 12\n",
            " 14 10 23 15 25 15 12 16  7 21 10 17 12 13 17  9 13 17 15 17 17 22 13 12\n",
            " 19 15 21 13 17 16  9 15 17 18 13 17  9 12 21 19 16 11 12 17 21 12 20 11\n",
            " 22 16 10 20]\n",
            "\n"
          ]
        },
        {
          "output_type": "execute_result",
          "data": {
            "text/plain": [
              "(array([ 1.,  2.,  4.,  4.,  6., 13., 10.,  6.,  2.,  2.]),\n",
              " array([ 4. ,  5.9,  7.8,  9.7, 11.6, 13.5, 15.4, 17.3, 19.2, 21.1, 23. ]),\n",
              " <a list of 10 Patch objects>)"
            ]
          },
          "metadata": {},
          "execution_count": 2
        },
        {
          "output_type": "display_data",
          "data": {
            "image/png": "[encoded data removed]",
            "text/plain": [
              "<Figure size 432x288 with 1 Axes>"
            ]
          },
          "metadata": {
            "needs_background": "light"
          }
        }
      ],
      "source": [
        "import numpy as np\n",
        "from scipy.stats import poisson\n",
        "import matplotlib.pyplot as plt\n",
        "# İstanbul'da rastgele bir caddede taksi beklediğimizi varsayalım. \n",
        "# Bulunduğumuz noktadan her 4 dakikada 1 boş taksi geçtiği bilindiğine göre bu Poisson sürecinin simülasyonunu gerçekleştirelim\n",
        "# 4 dakikada 1 boş taksi geçtiğine göre 1 saat içerisinde 60/4 = 15 boş taksi geçmesini bekleriz yani λ = 15 bulunur.\n",
        "# 50 saatlil bir simülasyon gerçekleştirip elde ettiğimiz sonucu histogramda gösterelim.\n",
        "np.random.seed(42)\n",
        "print(poisson.rvs(mu=15, size=100), end=\"\\n\\n\")\n",
        "plt.hist(poisson.rvs(mu=15, size=50))\n",
        "# Histogramda görüldüğü üzere 1 saatte geçecek olan boş taksi sayısı 12.5 - 17.5 arasında ağırlıklı olarak dağılmıştır. "
      ]
    },
    {
      "cell_type": "code",
      "source": [
        "#Gözlem süresini artıralım.\n",
        "plt.hist(poisson.rvs(mu=15, size=1000))"
      ],
      "metadata": {
        "colab": {
          "base_uri": "https://localhost:8080/",
          "height": 480
        },
        "id": "ZVJkb5RHq8Sp",
        "outputId": "c5c82a36-5453-40b5-8b12-d23ea3fe7bdc"
      },
      "execution_count": null,
      "outputs": [
        {
          "output_type": "execute_result",
          "data": {
            "text/plain": [
              "(array([ 14.,  36., 159., 172., 283., 169., 109.,  26.,  28.,   4.]),\n",
              " array([ 4. ,  6.5,  9. , 11.5, 14. , 16.5, 19. , 21.5, 24. , 26.5, 29. ]),\n",
              " <a list of 10 Patch objects>)"
            ]
          },
          "metadata": {},
          "execution_count": 114
        },
        {
          "output_type": "display_data",
          "data": {
            "image/png": "[encoded data removed]",
            "text/plain": [
              "<Figure size 1008x504 with 1 Axes>"
            ]
          },
          "metadata": {
            "needs_background": "light"
          }
        }
      ]
    },
    {
      "cell_type": "code",
      "source": [
        "plt.hist(poisson.rvs(mu=15, size=10000))\n",
        "#Görüldüğü gibi gözlem sayısı arttıkça 1 saatte geçen boş taksi sayısı 15 ve 15'e çok yakın değerler üzerinde dağılmaktadır.\n"
      ],
      "metadata": {
        "colab": {
          "base_uri": "https://localhost:8080/",
          "height": 497
        },
        "id": "va0bMC0irAIA",
        "outputId": "df7a2318-6488-4f3b-8a71-08f020067f4f"
      },
      "execution_count": null,
      "outputs": [
        {
          "output_type": "execute_result",
          "data": {
            "text/plain": [
              "(array([  33.,  335., 1430., 1778., 3103., 2083.,  683.,  460.,   83.,\n",
              "          12.]),\n",
              " array([ 3. ,  5.7,  8.4, 11.1, 13.8, 16.5, 19.2, 21.9, 24.6, 27.3, 30. ]),\n",
              " <a list of 10 Patch objects>)"
            ]
          },
          "metadata": {},
          "execution_count": 115
        },
        {
          "output_type": "display_data",
          "data": {
            "image/png": "[encoded data removed]",
            "text/plain": [
              "<Figure size 1008x504 with 1 Axes>"
            ]
          },
          "metadata": {
            "needs_background": "light"
          }
        }
      ]
    },
    {
      "cell_type": "code",
      "source": [
        "# 1 saat içerisinde 9 veya daha az boş taksi geçmesi olasılığı\n",
        "print(\"P(X <= 9) = {}\".format(poisson.cdf(k=9, mu=15)))\n",
        "\n",
        "# 1 saat içerisinde 10 ve 17 arasında boş taksi geçmesi olasılığı\n",
        "print(\"P(10 < X <= 17) = {}\".format(poisson.cdf(k=17, mu=15) - poisson.cdf(k=10, mu=15)))"
      ],
      "metadata": {
        "colab": {
          "base_uri": "https://localhost:8080/"
        },
        "id": "BJzKg-bbdkZS",
        "outputId": "764b35d9-cfc1-4b8f-d8a7-7fb4931259cf"
      },
      "execution_count": null,
      "outputs": [
        {
          "output_type": "stream",
          "name": "stdout",
          "text": [
            "P(X <= 9) = 0.06985366069940986\n",
            "P(10 < X <= 17) = 0.6303943405463539\n"
          ]
        }
      ]
    },
    {
      "cell_type": "code",
      "source": [
        "import random as rnd\n",
        "# Bekleme sürelerini görselleştirmek için bir simülasyon daha yapalım.\n",
        "x=np.zeros((10000,1)) #10000 dakika için simulasyonu gerçekleştireceğiz.\n",
        "for i in range(len(x)):\n",
        "  x[i] = -24*np.log(rnd.random()) # Ortalamanın 24 dakika olduğunu ve bu sürelerin üstel dağıldığını biliyoruz."
      ],
      "metadata": {
        "id": "yYpsE1VmJVfp"
      },
      "execution_count": null,
      "outputs": []
    },
    {
      "cell_type": "code",
      "source": [
        "#Histogram üzerinde görselleştirelim.\n",
        "plt.hist(x, bins=50)\n",
        "#Histogramda da görüldüğü gibi süreler üstel dağılım göstermekte ve frekansı en yüksek olan değerler 0-1 aralığında yer almaktadır."
      ],
      "metadata": {
        "colab": {
          "base_uri": "https://localhost:8080/",
          "height": 668
        },
        "id": "Ya2CtCSCwyUi",
        "outputId": "ac466ebc-75c4-4f70-b67c-3c67f2735810"
      },
      "execution_count": null,
      "outputs": [
        {
          "output_type": "execute_result",
          "data": {
            "text/plain": [
              "(array([1.908e+03, 1.473e+03, 1.230e+03, 9.590e+02, 8.020e+02, 7.310e+02,\n",
              "        5.600e+02, 4.470e+02, 3.620e+02, 2.670e+02, 2.160e+02, 1.950e+02,\n",
              "        1.790e+02, 1.360e+02, 9.100e+01, 8.100e+01, 7.000e+01, 6.000e+01,\n",
              "        4.600e+01, 2.500e+01, 3.700e+01, 2.500e+01, 2.100e+01, 1.700e+01,\n",
              "        5.000e+00, 8.000e+00, 5.000e+00, 7.000e+00, 8.000e+00, 4.000e+00,\n",
              "        2.000e+00, 5.000e+00, 3.000e+00, 3.000e+00, 1.000e+00, 2.000e+00,\n",
              "        2.000e+00, 0.000e+00, 0.000e+00, 1.000e+00, 2.000e+00, 0.000e+00,\n",
              "        0.000e+00, 0.000e+00, 2.000e+00, 1.000e+00, 0.000e+00, 0.000e+00,\n",
              "        0.000e+00, 1.000e+00]),\n",
              " array([1.73407961e-03, 5.01299479e+00, 1.00242555e+01, 1.50355162e+01,\n",
              "        2.00467769e+01, 2.50580376e+01, 3.00692984e+01, 3.50805591e+01,\n",
              "        4.00918198e+01, 4.51030805e+01, 5.01143412e+01, 5.51256019e+01,\n",
              "        6.01368626e+01, 6.51481234e+01, 7.01593841e+01, 7.51706448e+01,\n",
              "        8.01819055e+01, 8.51931662e+01, 9.02044269e+01, 9.52156876e+01,\n",
              "        1.00226948e+02, 1.05238209e+02, 1.10249470e+02, 1.15260730e+02,\n",
              "        1.20271991e+02, 1.25283252e+02, 1.30294513e+02, 1.35305773e+02,\n",
              "        1.40317034e+02, 1.45328295e+02, 1.50339555e+02, 1.55350816e+02,\n",
              "        1.60362077e+02, 1.65373338e+02, 1.70384598e+02, 1.75395859e+02,\n",
              "        1.80407120e+02, 1.85418380e+02, 1.90429641e+02, 1.95440902e+02,\n",
              "        2.00452163e+02, 2.05463423e+02, 2.10474684e+02, 2.15485945e+02,\n",
              "        2.20497205e+02, 2.25508466e+02, 2.30519727e+02, 2.35530988e+02,\n",
              "        2.40542248e+02, 2.45553509e+02, 2.50564770e+02]),\n",
              " <a list of 50 Patch objects>)"
            ]
          },
          "metadata": {},
          "execution_count": 5
        },
        {
          "output_type": "display_data",
          "data": {
            "image/png": "[encoded data removed]",
            "text/plain": [
              "<Figure size 432x288 with 1 Axes>"
            ]
          },
          "metadata": {
            "needs_background": "light"
          }
        }
      ]
    }
  ]
}